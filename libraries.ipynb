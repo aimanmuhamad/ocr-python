{
  "nbformat": 4,
  "nbformat_minor": 0,
  "metadata": {
    "colab": {
      "name": "libraries.ipynb",
      "provenance": [],
      "authorship_tag": "ABX9TyOdLmwM2XCxeycO3PV050+Z"
    },
    "kernelspec": {
      "name": "python3",
      "display_name": "Python 3"
    },
    "language_info": {
      "name": "python"
    }
  },
  "cells": [
    {
      "cell_type": "code",
      "execution_count": 5,
      "metadata": {
        "id": "2XxnNTgKSG_k"
      },
      "outputs": [],
      "source": [
        "from PIL import Image\n",
        "import cv2\n",
        "import pytesseract"
      ]
    }
  ]
}